{
 "cells": [
  {
   "cell_type": "code",
   "execution_count": 1,
   "id": "4a63eeaa-1394-4472-8d61-47b3b4e75bd0",
   "metadata": {},
   "outputs": [
    {
     "name": "stdout",
     "output_type": "stream",
     "text": [
      "Requirement already satisfied: pyscreenshot in c:\\users\\sevit\\appdata\\local\\programs\\python\\python312\\lib\\site-packages (3.1)\n",
      "Requirement already satisfied: EasyProcess in c:\\users\\sevit\\appdata\\local\\programs\\python\\python312\\lib\\site-packages (from pyscreenshot) (1.1)\n",
      "Requirement already satisfied: entrypoint2 in c:\\users\\sevit\\appdata\\local\\programs\\python\\python312\\lib\\site-packages (from pyscreenshot) (1.1)\n",
      "Requirement already satisfied: mss in c:\\users\\sevit\\appdata\\local\\programs\\python\\python312\\lib\\site-packages (from pyscreenshot) (9.0.1)\n",
      "Note: you may need to restart the kernel to use updated packages.\n"
     ]
    }
   ],
   "source": [
    "pip install pyscreenshot"
   ]
  },
  {
   "cell_type": "code",
   "execution_count": 2,
   "id": "cc18a544-7114-4004-8308-7a03e86c20f0",
   "metadata": {},
   "outputs": [],
   "source": [
    "import pyscreenshot as ImageGrab\n",
    "import time"
   ]
  },
  {
   "cell_type": "code",
   "execution_count": 4,
   "id": "b6e10054-a97c-421c-8d1c-291df736869a",
   "metadata": {},
   "outputs": [
    {
     "name": "stdout",
     "output_type": "stream",
     "text": [
      "saved...... 83\n",
      "clear screen now and redraw now........\n"
     ]
    }
   ],
   "source": [
    "images_folder=\"hwdp/9/\"\n",
    "  \n",
    "for i in range(83,84):\n",
    "   time.sleep(8)\n",
    "   im=ImageGrab.grab(bbox=(200,350,650,700)) #x1,y1,x2,y2\n",
    "   print(\"saved......\",i)\n",
    "   im.save(images_folder+str(i)+'.png')\n",
    "   print(\"clear screen now and redraw now........\")"
   ]
  },
  {
   "cell_type": "code",
   "execution_count": 3,
   "id": "e1222aaa-b26e-4a0c-aace-6151cfdc41f4",
   "metadata": {},
   "outputs": [
    {
     "name": "stdout",
     "output_type": "stream",
     "text": [
      "Requirement already satisfied: opencv-python in c:\\users\\sevit\\appdata\\local\\programs\\python\\python312\\lib\\site-packages (4.9.0.80)Note: you may need to restart the kernel to use updated packages.\n",
      "\n",
      "Requirement already satisfied: numpy>=1.21.2 in c:\\users\\sevit\\appdata\\local\\programs\\python\\python312\\lib\\site-packages (from opencv-python) (1.26.3)\n"
     ]
    }
   ],
   "source": [
    "pip install opencv-python"
   ]
  },
  {
   "cell_type": "code",
   "execution_count": 4,
   "id": "6da1c76d-52d2-4431-9027-ad328d4ba8c1",
   "metadata": {},
   "outputs": [
    {
     "name": "stdout",
     "output_type": "stream",
     "text": [
      "Requirement already satisfied: pandas in c:\\users\\sevit\\appdata\\local\\programs\\python\\python312\\lib\\site-packages (2.1.4)\n",
      "Requirement already satisfied: numpy<2,>=1.26.0 in c:\\users\\sevit\\appdata\\local\\programs\\python\\python312\\lib\\site-packages (from pandas) (1.26.3)\n",
      "Requirement already satisfied: python-dateutil>=2.8.2 in c:\\users\\sevit\\appdata\\local\\programs\\python\\python312\\lib\\site-packages (from pandas) (2.8.2)\n",
      "Requirement already satisfied: pytz>=2020.1 in c:\\users\\sevit\\appdata\\local\\programs\\python\\python312\\lib\\site-packages (from pandas) (2023.3.post1)\n",
      "Requirement already satisfied: tzdata>=2022.1 in c:\\users\\sevit\\appdata\\local\\programs\\python\\python312\\lib\\site-packages (from pandas) (2023.4)\n",
      "Requirement already satisfied: six>=1.5 in c:\\users\\sevit\\appdata\\local\\programs\\python\\python312\\lib\\site-packages (from python-dateutil>=2.8.2->pandas) (1.16.0)\n",
      "Note: you may need to restart the kernel to use updated packages.\n"
     ]
    }
   ],
   "source": [
    "pip install pandas"
   ]
  },
  {
   "cell_type": "code",
   "execution_count": 5,
   "id": "a166c93f-55e0-4529-a32c-fc15625da968",
   "metadata": {},
   "outputs": [
    {
     "name": "stdout",
     "output_type": "stream",
     "text": [
      "Requirement already satisfied: scikit-learn in c:\\users\\sevit\\appdata\\local\\programs\\python\\python312\\lib\\site-packages (1.3.2)\n",
      "Requirement already satisfied: numpy<2.0,>=1.17.3 in c:\\users\\sevit\\appdata\\local\\programs\\python\\python312\\lib\\site-packages (from scikit-learn) (1.26.3)\n",
      "Requirement already satisfied: scipy>=1.5.0 in c:\\users\\sevit\\appdata\\local\\programs\\python\\python312\\lib\\site-packages (from scikit-learn) (1.11.4)\n",
      "Requirement already satisfied: joblib>=1.1.1 in c:\\users\\sevit\\appdata\\local\\programs\\python\\python312\\lib\\site-packages (from scikit-learn) (1.3.2)\n",
      "Requirement already satisfied: threadpoolctl>=2.0.0 in c:\\users\\sevit\\appdata\\local\\programs\\python\\python312\\lib\\site-packages (from scikit-learn) (3.2.0)\n",
      "Note: you may need to restart the kernel to use updated packages.\n"
     ]
    }
   ],
   "source": [
    "pip install scikit-learn"
   ]
  },
  {
   "cell_type": "code",
   "execution_count": 6,
   "id": "a261de41-8430-4c99-bf34-286cb1d81c1e",
   "metadata": {},
   "outputs": [],
   "source": [
    "import cv2\n",
    "import csv\n",
    "import glob\n",
    "  \n",
    "header  =[\"label\"]\n",
    "for i in range(0,784):\n",
    "   header.append(\"pixel\"+str(i))\n",
    "with open('ac.csv', 'a') as f:\n",
    "   writer = csv.writer(f)\n",
    "   writer.writerow(header)\n",
    "    \n",
    "for label in range(10):\n",
    "   dirList = glob.glob(\"hwdp/\"+str(label)+\"/*.png\")\n",
    "    \n",
    "   for img_path in dirList:\n",
    "       im= cv2.imread(img_path)\n",
    "       im_gray = cv2.cvtColor(im,cv2.COLOR_BGR2GRAY)\n",
    "       im_gray = cv2.GaussianBlur(im_gray,(15,15), 0)\n",
    "       roi= cv2.resize(im_gray,(28,28), interpolation=cv2.INTER_AREA)\n",
    "        \n",
    "       data=[]\n",
    "       data.append(label)\n",
    "       rows, cols = roi.shape\n",
    "        \n",
    "       ## Fill the data array with pixels one by one.\n",
    "       for i in range(rows):\n",
    "           for j in range(cols):\n",
    "               k =roi[i,j]\n",
    "               if k>100:\n",
    "                   k=1\n",
    "               else:\n",
    "                   k=0\n",
    "               data.append(k)\n",
    "       with open('ac.csv', 'a') as f:\n",
    "           writer = csv.writer(f)\n",
    "           writer.writerow(data)"
   ]
  },
  {
   "cell_type": "code",
   "execution_count": 6,
   "id": "4899548e-a3b8-4b6d-8b92-df3b1e719534",
   "metadata": {},
   "outputs": [],
   "source": [
    "import cv2\n",
    "import csv\n",
    "import glob\n",
    "  \n",
    "header  =[\"label\"]\n",
    "for i in range(0,784):\n",
    "   header.append(\"pixel\"+str(i))\n",
    "with open('ac.csv', 'a') as f:\n",
    "   writer = csv.writer(f)\n",
    "   writer.writerow(header)\n",
    "    \n",
    "for label in range(10):\n",
    "   dirList = glob.glob(\"hwdp/\"+str(label)+\"/*.png\")\n",
    "    \n",
    "   for img_path in dirList:\n",
    "       im= cv2.imread(img_path)\n",
    "       im_gray = cv2.cvtColor(im,cv2.COLOR_BGR2GRAY)\n",
    "       im_gray = cv2.GaussianBlur(im_gray,(15,15), 0)\n",
    "       roi= cv2.resize(im_gray,(28,28), interpolation=cv2.INTER_AREA)\n",
    "        \n",
    "       data=[]\n",
    "       data.append(label)\n",
    "       rows, cols = roi.shape\n",
    "        \n",
    "       ## Fill the data array with pixels one by one.\n",
    "       for i in range(rows):\n",
    "           for j in range(cols):\n",
    "               k =roi[i,j]\n",
    "               if k>100:\n",
    "                   k=1\n",
    "               else:\n",
    "                   k=0\n",
    "               data.append(k)\n",
    "       with open('ac.csv', 'a') as f:\n",
    "           writer = csv.writer(f)\n",
    "           writer.writerow(data)"
   ]
  },
  {
   "cell_type": "code",
   "execution_count": 7,
   "id": "5a67a78f-f243-4ded-982e-ac0dd4f48f76",
   "metadata": {},
   "outputs": [
    {
     "name": "stdout",
     "output_type": "stream",
     "text": [
      "     label  pixel0  pixel1  pixel2  pixel3  pixel4  pixel5  pixel6  pixel7  \\\n",
      "810      8       0       0       0       0       0       0       0       0   \n",
      "407      4       0       0       0       0       0       0       0       0   \n",
      "510      5       0       0       0       0       0       0       0       0   \n",
      "493      4       0       0       0       0       0       0       0       0   \n",
      "11       0       0       0       0       0       0       0       0       0   \n",
      "..     ...     ...     ...     ...     ...     ...     ...     ...     ...   \n",
      "555      5       0       0       0       0       0       0       0       0   \n",
      "665      6       0       0       0       0       0       0       0       0   \n",
      "807      8       0       0       0       0       0       0       0       0   \n",
      "864      8       0       0       0       0       0       0       0       0   \n",
      "412      4       0       0       0       0       0       0       0       0   \n",
      "\n",
      "     pixel8  ...  pixel774  pixel775  pixel776  pixel777  pixel778  pixel779  \\\n",
      "810       0  ...         0         0         0         0         0         0   \n",
      "407       0  ...         0         0         0         0         0         0   \n",
      "510       0  ...         0         0         0         0         0         0   \n",
      "493       0  ...         0         0         0         0         0         0   \n",
      "11        0  ...         0         0         0         0         0         0   \n",
      "..      ...  ...       ...       ...       ...       ...       ...       ...   \n",
      "555       0  ...         0         0         0         0         0         0   \n",
      "665       0  ...         0         0         0         0         0         0   \n",
      "807       0  ...         0         0         0         0         0         0   \n",
      "864       0  ...         0         0         0         0         0         0   \n",
      "412       0  ...         0         0         0         0         0         0   \n",
      "\n",
      "     pixel780  pixel781  pixel782  pixel783  \n",
      "810         0         0         0         0  \n",
      "407         0         0         0         0  \n",
      "510         0         0         0         0  \n",
      "493         0         0         0         0  \n",
      "11          0         0         0         0  \n",
      "..        ...       ...       ...       ...  \n",
      "555         0         0         0         0  \n",
      "665         0         0         0         0  \n",
      "807         0         0         0         0  \n",
      "864         0         0         0         0  \n",
      "412         0         0         0         0  \n",
      "\n",
      "[1000 rows x 785 columns]\n"
     ]
    }
   ],
   "source": [
    "import pandas as pd #pip install pandas\n",
    "from sklearn.utils import shuffle #pip install scikit-learn\n",
    "#0,....,1.....,2.....\n",
    "#5,3,1,0,2,5,.......\n",
    " \n",
    "data = pd.read_csv('sg.csv')\n",
    "data = shuffle(data)\n",
    "print(data)"
   ]
  },
  {
   "cell_type": "code",
   "execution_count": 8,
   "id": "c4bdedbf-5e73-4b5b-8a8c-05d14e8e05c5",
   "metadata": {},
   "outputs": [],
   "source": [
    "X = data.drop([\"label\"],axis=1)\n",
    "Y= data[\"label\"]"
   ]
  },
  {
   "cell_type": "code",
   "execution_count": 9,
   "id": "f98410a6-dd29-45ac-990f-6a97570bd4b0",
   "metadata": {},
   "outputs": [
    {
     "name": "stdout",
     "output_type": "stream",
     "text": [
      "Requirement already satisfied: matplotlib in c:\\users\\sevit\\appdata\\local\\programs\\python\\python312\\lib\\site-packages (3.8.2)\n",
      "Requirement already satisfied: contourpy>=1.0.1 in c:\\users\\sevit\\appdata\\local\\programs\\python\\python312\\lib\\site-packages (from matplotlib) (1.2.0)\n",
      "Requirement already satisfied: cycler>=0.10 in c:\\users\\sevit\\appdata\\local\\programs\\python\\python312\\lib\\site-packages (from matplotlib) (0.12.1)\n",
      "Requirement already satisfied: fonttools>=4.22.0 in c:\\users\\sevit\\appdata\\local\\programs\\python\\python312\\lib\\site-packages (from matplotlib) (4.47.0)\n",
      "Requirement already satisfied: kiwisolver>=1.3.1 in c:\\users\\sevit\\appdata\\local\\programs\\python\\python312\\lib\\site-packages (from matplotlib) (1.4.5)\n",
      "Requirement already satisfied: numpy<2,>=1.21 in c:\\users\\sevit\\appdata\\local\\programs\\python\\python312\\lib\\site-packages (from matplotlib) (1.26.3)\n",
      "Requirement already satisfied: packaging>=20.0 in c:\\users\\sevit\\appdata\\local\\programs\\python\\python312\\lib\\site-packages (from matplotlib) (23.2)\n",
      "Requirement already satisfied: pillow>=8 in c:\\users\\sevit\\appdata\\local\\programs\\python\\python312\\lib\\site-packages (from matplotlib) (10.2.0)\n",
      "Requirement already satisfied: pyparsing>=2.3.1 in c:\\users\\sevit\\appdata\\local\\programs\\python\\python312\\lib\\site-packages (from matplotlib) (3.1.1)\n",
      "Requirement already satisfied: python-dateutil>=2.7 in c:\\users\\sevit\\appdata\\local\\programs\\python\\python312\\lib\\site-packages (from matplotlib) (2.8.2)\n",
      "Requirement already satisfied: six>=1.5 in c:\\users\\sevit\\appdata\\local\\programs\\python\\python312\\lib\\site-packages (from python-dateutil>=2.7->matplotlib) (1.16.0)\n",
      "Note: you may need to restart the kernel to use updated packages.\n"
     ]
    }
   ],
   "source": [
    "pip install matplotlib"
   ]
  },
  {
   "cell_type": "code",
   "execution_count": 10,
   "id": "faccbb28-18af-4e79-a931-dbd05a7a4049",
   "metadata": {},
   "outputs": [
    {
     "name": "stdout",
     "output_type": "stream",
     "text": [
      "4\n"
     ]
    },
    {
     "data": {
      "text/plain": [
       "<matplotlib.image.AxesImage at 0x21323406600>"
      ]
     },
     "execution_count": 10,
     "metadata": {},
     "output_type": "execute_result"
    },
    {
     "data": {
      "image/png": "[encoded data removed]",
      "text/plain": [
       "<Figure size 640x480 with 1 Axes>"
      ]
     },
     "metadata": {},
     "output_type": "display_data"
    }
   ],
   "source": [
    "%matplotlib inline\n",
    "import matplotlib.pyplot as plt\n",
    "import cv2\n",
    "idx = 412\n",
    "img = X.loc[idx].values.reshape(28,28)\n",
    "print(Y[idx])\n",
    "plt.imshow(img)"
   ]
  },
  {
   "cell_type": "markdown",
   "id": "fac178d4-4064-45ba-82f3-977b846f8756",
   "metadata": {},
   "source": [
    "SVM accuracy Caluclation"
   ]
  },
  {
   "cell_type": "code",
   "execution_count": 11,
   "id": "0430dccc-dbcf-453d-84a0-6ecec14d94e3",
   "metadata": {},
   "outputs": [],
   "source": [
    "from sklearn.model_selection import train_test_split\n",
    "train_x,test_x,train_y,test_y = train_test_split(X,Y, test_size = 0.2)\n"
   ]
  },
  {
   "cell_type": "code",
   "execution_count": 12,
   "id": "3733855a-fb0c-4196-9432-5e3dc651af42",
   "metadata": {},
   "outputs": [
    {
     "name": "stdout",
     "output_type": "stream",
     "text": [
      "Requirement already satisfied: joblib in c:\\users\\sevit\\appdata\\local\\programs\\python\\python312\\lib\\site-packages (1.3.2)\n",
      "Note: you may need to restart the kernel to use updated packages.\n"
     ]
    }
   ],
   "source": [
    "pip install joblib"
   ]
  },
  {
   "cell_type": "code",
   "execution_count": 13,
   "id": "ab3b351e-d5b6-4b99-a6f4-de764437b10b",
   "metadata": {},
   "outputs": [
    {
     "data": {
      "text/plain": [
       "['model/digit_recognizer']"
      ]
     },
     "execution_count": 13,
     "metadata": {},
     "output_type": "execute_result"
    }
   ],
   "source": [
    "import joblib\n",
    "from sklearn.svm import SVC\n",
    "classifier=SVC(kernel=\"linear\", random_state=6)\n",
    "classifier.fit(train_x,train_y)\n",
    "joblib.dump(classifier, \"model/digit_recognizer\")"
   ]
  },
  {
   "cell_type": "code",
   "execution_count": 16,
   "id": "25c2e657-022e-4008-895b-890848db3823",
   "metadata": {},
   "outputs": [
    {
     "name": "stdout",
     "output_type": "stream",
     "text": [
      "Accuracy=  0.985\n",
      "Confusion Matrix:\n",
      "[[16  2  0  0  0  0  0  0  0  0]\n",
      " [ 0 23  0  0  0  0  0  0  0  0]\n",
      " [ 0  0 22  0  0  0  0  1  0  0]\n",
      " [ 0  0  0 22  0  0  0  0  0  0]\n",
      " [ 0  1  0  0 19  0  0  0  0  0]\n",
      " [ 0  0  0  0  0 13  0  0  0  0]\n",
      " [ 0  0  0  0  0  1 21  0  0  0]\n",
      " [ 0  2  0  0  0  0  0 19  0  0]\n",
      " [ 0  0  0  0  0  0  0  0 23  1]\n",
      " [ 0  0  0  0  0  0  0  0  0 14]]\n"
     ]
    }
   ],
   "source": [
    "from sklearn import metrics\n",
    "from sklearn.metrics import precision_score, confusion_matrix\n",
    "prediction=classifier.predict(test_x)\n",
    "print(\"Accuracy= \",metrics.accuracy_score(prediction, test_y))\n",
    "conf_matrix = confusion_matrix(test_y, y_pred)\n",
    "print(\"Confusion Matrix:\")\n",
    "print(conf_matrix)"
   ]
  },
  {
   "cell_type": "markdown",
   "id": "1164d746-6247-47d0-862f-7e6674162513",
   "metadata": {},
   "source": [
    "KNN Accuracy Calculation"
   ]
  },
  {
   "cell_type": "code",
   "execution_count": 15,
   "id": "7e5c7599-12d7-4b0a-a722-73be6e01a126",
   "metadata": {},
   "outputs": [
    {
     "name": "stdout",
     "output_type": "stream",
     "text": [
      "Accuracy: 0.96\n",
      "Confusion Matrix:\n",
      "[[16  2  0  0  0  0  0  0  0  0]\n",
      " [ 0 23  0  0  0  0  0  0  0  0]\n",
      " [ 0  0 22  0  0  0  0  1  0  0]\n",
      " [ 0  0  0 22  0  0  0  0  0  0]\n",
      " [ 0  1  0  0 19  0  0  0  0  0]\n",
      " [ 0  0  0  0  0 13  0  0  0  0]\n",
      " [ 0  0  0  0  0  1 21  0  0  0]\n",
      " [ 0  2  0  0  0  0  0 19  0  0]\n",
      " [ 0  0  0  0  0  0  0  0 23  1]\n",
      " [ 0  0  0  0  0  0  0  0  0 14]]\n"
     ]
    }
   ],
   "source": [
    "from sklearn.neighbors import KNeighborsClassifier\n",
    "from sklearn.metrics import accuracy_score\n",
    "from sklearn.metrics import precision_score, confusion_matrix\n",
    "\n",
    "# Create a KNN classifier with k=3\n",
    "knn_classifier = KNeighborsClassifier(n_neighbors=5)\n",
    "\n",
    "# Train the classifier on the training set\n",
    "knn_classifier.fit(train_x, train_y)\n",
    "\n",
    "# Make predictions on the test set\n",
    "y_pred = knn_classifier.predict(test_x)\n",
    "\n",
    "# Calculate and print the accuracy\n",
    "accuracy = accuracy_score(test_y, y_pred)\n",
    "print(f'Accuracy: {accuracy}')\n",
    "\n",
    "# Optionally, you can also print the confusion matrix for more detailed information\n",
    "conf_matrix = confusion_matrix(test_y, y_pred)\n",
    "print(\"Confusion Matrix:\")\n",
    "print(conf_matrix)"
   ]
  },
  {
   "cell_type": "markdown",
   "id": "efa3813d-6924-49d5-9441-d44a16d1f026",
   "metadata": {},
   "source": [
    "Random Forest accuracy Calculation"
   ]
  },
  {
   "cell_type": "code",
   "execution_count": 17,
   "id": "196af538-5254-4d4d-99b2-aef57cc5163c",
   "metadata": {},
   "outputs": [
    {
     "name": "stdout",
     "output_type": "stream",
     "text": [
      "Accuracy: 0.955\n",
      "Confusion Matrix:\n",
      "[[18  0  0  0  0  0  0  0  0  0]\n",
      " [ 0 23  0  0  0  0  0  0  0  0]\n",
      " [ 0  0 23  0  0  0  0  0  0  0]\n",
      " [ 0  0  0 22  0  0  0  0  0  0]\n",
      " [ 0  0  0  0 20  0  0  0  0  0]\n",
      " [ 0  0  0  0  0 13  0  0  0  0]\n",
      " [ 1  0  2  0  0  1 18  0  0  0]\n",
      " [ 0  3  0  1  0  0  1 16  0  0]\n",
      " [ 0  0  0  0  0  0  0  0 24  0]\n",
      " [ 0  0  0  0  0  0  0  0  0 14]]\n"
     ]
    }
   ],
   "source": [
    "from sklearn.ensemble import RandomForestClassifier\n",
    "from sklearn.metrics import accuracy_score\n",
    "\n",
    "# Create a Random Forest classifier with 100 trees\n",
    "rf_classifier = RandomForestClassifier(n_estimators=2, random_state=42)\n",
    "\n",
    "# Train the classifier on the training set\n",
    "rf_classifier.fit(train_x, train_y)\n",
    "\n",
    "# Make predictions on the test set\n",
    "y_pred = rf_classifier.predict(test_x)\n",
    "\n",
    "# Calculate and print the accuracy\n",
    "accuracy = accuracy_score(test_y, y_pred)\n",
    "print(f'Accuracy: {accuracy}')\n",
    "conf_matrix = confusion_matrix(test_y, y_pred)\n",
    "print(\"Confusion Matrix:\")\n",
    "print(conf_matrix)"
   ]
  },
  {
   "cell_type": "code",
   "execution_count": 2,
   "id": "6118c74b-6932-49cc-b5cd-38cbfefcd5c5",
   "metadata": {},
   "outputs": [
    {
     "name": "stderr",
     "output_type": "stream",
     "text": [
      "C:\\Users\\sevit\\AppData\\Local\\Programs\\Python\\Python312\\Lib\\site-packages\\sklearn\\base.py:465: UserWarning: X does not have valid feature names, but SVC was fitted with feature names\n",
      "  warnings.warn(\n"
     ]
    },
    {
     "name": "stdout",
     "output_type": "stream",
     "text": [
      "Prediction: 1\n"
     ]
    },
    {
     "ename": "KeyboardInterrupt",
     "evalue": "",
     "output_type": "error",
     "traceback": [
      "\u001b[1;31m---------------------------------------------------------------------------\u001b[0m",
      "\u001b[1;31mKeyboardInterrupt\u001b[0m                         Traceback (most recent call last)",
      "Cell \u001b[1;32mIn[2], line 43\u001b[0m\n\u001b[0;32m     41\u001b[0m cv2\u001b[38;5;241m.\u001b[39mnamedWindow(\u001b[38;5;124m\"\u001b[39m\u001b[38;5;124mResult\u001b[39m\u001b[38;5;124m\"\u001b[39m)\n\u001b[0;32m     42\u001b[0m cv2\u001b[38;5;241m.\u001b[39mimshow(\u001b[38;5;124m\"\u001b[39m\u001b[38;5;124mResult\u001b[39m\u001b[38;5;124m\"\u001b[39m,im)\n\u001b[1;32m---> 43\u001b[0m \u001b[43mcv2\u001b[49m\u001b[38;5;241;43m.\u001b[39;49m\u001b[43mwaitKey\u001b[49m\u001b[43m(\u001b[49m\u001b[38;5;241;43m10000\u001b[39;49m\u001b[43m)\u001b[49m\n\u001b[0;32m     44\u001b[0m \u001b[38;5;28;01mif\u001b[39;00m cv2\u001b[38;5;241m.\u001b[39mwaitKey(\u001b[38;5;241m1\u001b[39m)\u001b[38;5;241m==\u001b[39m\u001b[38;5;241m13\u001b[39m: \u001b[38;5;66;03m#27 is the ascii value of esc, 13 is the ascii value of enter\u001b[39;00m\n\u001b[0;32m     45\u001b[0m     \u001b[38;5;28;01mbreak\u001b[39;00m\n",
      "\u001b[1;31mKeyboardInterrupt\u001b[0m: "
     ]
    }
   ],
   "source": [
    "import joblib\n",
    "import cv2\n",
    "import numpy as np #pip install numpy\n",
    "import time\n",
    "import pyscreenshot as ImageGrab\n",
    "  \n",
    "model=joblib.load(\"model/digit_recognizer\")\n",
    "images_folder=\"img/\"\n",
    "  \n",
    "while True:\n",
    "   img=ImageGrab.grab(bbox=(200,350,650,700))\n",
    "    \n",
    "   img.save(images_folder+\"img.png\")\n",
    "   im = cv2.imread(images_folder+\"img.png\")\n",
    "   im_gray = cv2.cvtColor(im,cv2.COLOR_BGR2GRAY)\n",
    "   im_gray  =cv2.GaussianBlur(im_gray, (15,15), 0)\n",
    "    \n",
    "   #Threshold the image\n",
    "   ret, im_th = cv2.threshold(im_gray,100, 255, cv2.THRESH_BINARY)\n",
    "   roi = cv2.resize(im_th, (28,28), interpolation  =cv2.INTER_AREA)\n",
    "    \n",
    "   rows,cols=roi.shape\n",
    "    \n",
    "   X = []\n",
    "    \n",
    "   ##  Fill the data array with pixels one by one.\n",
    "   for i in range(rows):\n",
    "       for j in range(cols):\n",
    "           k = roi[i,j]\n",
    "           if k>100:\n",
    "               k=1\n",
    "           else:\n",
    "               k=0\n",
    "           X.append(k)\n",
    "            \n",
    "   predictions  =model.predict([X])\n",
    "   print(\"Prediction:\",predictions[0])\n",
    "   cv2.putText(im, \"Prediction is: \"+str(predictions[0]), (20,20), 0, 0.8,(0,255,0),2,cv2.LINE_AA)\n",
    "    \n",
    "   cv2.startWindowThread()\n",
    "   cv2.namedWindow(\"Result\")\n",
    "   cv2.imshow(\"Result\",im)\n",
    "   cv2.waitKey(10000)\n",
    "   if cv2.waitKey(1)==13: #27 is the ascii value of esc, 13 is the ascii value of enter\n",
    "       break\n",
    "cv2.destroyAllWindows()"
   ]
  },
  {
   "cell_type": "code",
   "execution_count": null,
   "id": "202f45b2-2a87-49da-89c6-7492544686c2",
   "metadata": {},
   "outputs": [],
   "source": []
  },
  {
   "cell_type": "code",
   "execution_count": null,
   "id": "8df20fd5-5c63-4f82-93ee-63f5bd3f20c1",
   "metadata": {},
   "outputs": [],
   "source": []
  },
  {
   "cell_type": "code",
   "execution_count": null,
   "id": "c0881f63-01b7-44ae-bc86-23db1bfbb797",
   "metadata": {},
   "outputs": [],
   "source": []
  },
  {
   "cell_type": "code",
   "execution_count": null,
   "id": "b57cc441-bf27-4a3c-8c28-8db347e85a46",
   "metadata": {},
   "outputs": [],
   "source": []
  }
 ],
 "metadata": {
  "kernelspec": {
   "display_name": "Python 3 (ipykernel)",
   "language": "python",
   "name": "python3"
  },
  "language_info": {
   "codemirror_mode": {
    "name": "ipython",
    "version": 3
   },
   "file_extension": ".py",
   "mimetype": "text/x-python",
   "name": "python",
   "nbconvert_exporter": "python",
   "pygments_lexer": "ipython3",
   "version": "3.12.1"
  }
 },
 "nbformat": 4,
 "nbformat_minor": 5
}
